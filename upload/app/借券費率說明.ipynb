{
 "cells": [
  {
   "cell_type": "markdown",
   "metadata": {},
   "source": [
    "# 程式說明"
   ]
  },
  {
   "cell_type": "markdown",
   "metadata": {},
   "source": [
    "### 此程式主要功能是到台灣證券交易所的[借券資料](https://www.twse.com.tw/zh/page/trading/SBL/t13sa710.html)頁面中爬取資料並呈現"
   ]
  },
  {
   "cell_type": "markdown",
   "metadata": {},
   "source": [
    "本檔案有兩個設定檔：<b>Date_Setting</b>以及<b>Core_Setting</b>"
   ]
  },
  {
   "cell_type": "markdown",
   "metadata": {},
   "source": [
    "* <b>Date_Setting.txt</b>檔案中有4個參數: START, END, BATCH, HISTORICAL_DATA，中間採用半形冒號\n",
    "* <b>Core_Setting.txt</b>檔案中有4個參數: TABLE_WIDTH, TABLE_HEIGHT, PLOT_WIDTH, PLOT_HEIGHT，中間採用半形冒號"
   ]
  },
  {
   "cell_type": "markdown",
   "metadata": {},
   "source": [
    "# Date_Setting參數說明\n",
    "\n",
    "* START：指定抓取資料期間開始日期\n",
    "* END：指定抓取資料期間結束日期\n",
    "* BATCH：是否採用批次抓取的方式抓取資料\n",
    "* HISTORICAL_DATA：是否採用過去保存的歷史資料進行分析\n"
   ]
  },
  {
   "cell_type": "markdown",
   "metadata": {},
   "source": [
    "## 參數使用情境\n",
    "\n",
    "(1) 預設情境，無定義日期時，預設使用上個月月初作為開始時間，抓取截至今天為止的資料\n",
    "\n",
    "        - START:\n",
    "        - END:\n",
    "        - BATCH:\n",
    "        - HISTORICAL_DATA:\n",
    "\n",
    "\n",
    "(2) 設定開始日，無定義結束日期時，使用設定的開始時間，抓取截至今天為止的資料\n",
    "        \n",
    "        - START:2020-09-10\n",
    "        - END:\n",
    "        - BATCH:\n",
    "        - HISTORICAL_DATA:\n",
    "\n",
    "(3) 設定開始日與結束日，使用設定的開始時間，抓取截至設定的截止日期的資料\n",
    "\n",
    "        - START:2020-09-10\n",
    "        - END:2020-10-23\n",
    "        - BATCH:\n",
    "        - HISTORICAL_DATA:\n",
    "\n",
    "(4) 設定開始日與結束日，以及啟用批次下載功能，此時則會將所選的時間區間，以每個月每個月下載再做合併。由於資料區間較大時，直接大量抓取容易產生錯誤，此時可以考慮採用此抓取方式。但是要避免短期內送出太多請求被TWSE鎖，所以每次請求完需要使電腦短暫休眠，運行速度較慢。另外，當批次功能開啟時，也會將此次抓取後儲存爬取的資料為\"<b>最近一次批次抓取資料.csv</b>\"。\n",
    "\n",
    "        - START:2019-03-10\n",
    "        - END:2020-10-23\n",
    "        - BATCH:T\n",
    "        - HISTORICAL_DATA:\n",
    "        \n",
    "(5) 設定開始日，以及啟用批次下載功能，此時則會將所選的時間區間，依照批次的方式，抓取截至今天為止的資料，並且也會儲存。\n",
    "\n",
    "        - START:2019-03-10\n",
    "        - END:\n",
    "        - BATCH:T\n",
    "        - HISTORICAL_DATA:\n",
    "        \n",
    "(6) 設定HISTORICAL_DATA，直接使用過去保存的資料集，如此一來會跳過抓資料階段，因此其他三個參數就沒有作用了。\n",
    "\n",
    "        - START:\n",
    "        - END:\n",
    "        - BATCH:\n",
    "        - HISTORICAL_DATA:最近一次批次抓取資料.csv\n",
    "        "
   ]
  },
  {
   "cell_type": "markdown",
   "metadata": {},
   "source": [
    "# Core_Setting參數說明"
   ]
  },
  {
   "cell_type": "markdown",
   "metadata": {},
   "source": [
    "* TABLE_WIDTH：資料表格的寬度大小，其單位是當前螢幕的比例\n",
    "* TABLE_HEIGHT：資料表格的高度大小，其單位是當前螢幕的比例\n",
    "* PLOT_WIDTH：右邊圖表的寬度大小\n",
    "* PLOT_HEIGHT：右邊圖表的高度大小\n"
   ]
  },
  {
   "cell_type": "markdown",
   "metadata": {},
   "source": [
    "# 介面說明"
   ]
  },
  {
   "cell_type": "markdown",
   "metadata": {},
   "source": [
    "* 篩選欄位：成交日期開始與結束、交易方式、證券代號。 如果要回到全選，則將選項調回預設的位置即可。\n",
    "* 儲存表格資料：按下之後，將會保存當下的篩選資料為CSV檔，並存在APP底下的目錄，以時間戳記來命名。\n",
    "* 讀取表格資料：按下之後，將會跳出檔案選擇視窗，可以讀取之前保存的相同欄位設定的CSV檔。\n",
    "* 資料表格：右下方的四個按鈕，分別為欄位縮小、欄位放大、字體縮小、字體放大\n",
    "\n",
    "* 圖表類別：\n",
    "    1. 費率折線圖：現在篩選的資料中，依照資料序列呈現借券費率的變化。X軸是各筆資料、Y軸是借券費率\n",
    "    2. 數量折線圖：現在篩選的資料中，依照資料序列呈現成交數量的變化。X軸是各筆資料、Y軸是成交數量\n",
    "    2. 分配圖：現在篩選的資料中，借券費率的分布。X軸為借券費率、Y軸為累計次數、顏色則代表不同的交易方法\n",
    "    \n",
    "    \n",
    "* 圖表相關工具列：提供圖表檢視相關的工具"
   ]
  },
  {
   "cell_type": "markdown",
   "metadata": {},
   "source": [
    "![title](img/介面說明.png)"
   ]
  },
  {
   "cell_type": "markdown",
   "metadata": {},
   "source": [
    "# 提示工具"
   ]
  },
  {
   "cell_type": "markdown",
   "metadata": {},
   "source": [
    "### 如圖所示，可以用滑鼠點擊右方的圖，取得詳細資訊\n",
    "* 折線圖：提供該筆資料的序列、成交日期、證券名稱、交易方式、成交數量、成交費率\n",
    "* 分配圖：提供該區間實際的累積數量"
   ]
  },
  {
   "cell_type": "markdown",
   "metadata": {},
   "source": [
    "![title](img/提示工具.png)"
   ]
  },
  {
   "cell_type": "markdown",
   "metadata": {},
   "source": [
    "# 費率跳升排序"
   ]
  },
  {
   "cell_type": "markdown",
   "metadata": {},
   "source": [
    "### 找出成交費率有跳升的個股，並提供反向選取\n",
    "\n",
    "* 可以設定：\n",
    "\n",
    "\n",
    "    * 往回找高點的天數\n",
    "    * 交易方式\n",
    "    * 資料開始與結束日期\n",
    "    \n",
    "    \n",
    "* 依照現有的資料表格進行以下計算：\n",
    "\n",
    "    1. 選取要往回看幾天找跳點，預設為1\n",
    "    2. 每個證券分開計算，並依照是否為最後幾天分為兩組資料\n",
    "    3. 最後幾天的資料中，計算成交費率的最高值。(如果最後幾天沒有交易的標的則會剔除)\n",
    "    4. 最後幾天以外的資料的資料中，計算成交費率的平均數\n",
    "    5. 將兩者計算跳升率$\\frac{成交費率跳升率}{最後<i>日成交費率最高點}-1$\n",
    "    6. 依照跳升率進行排序，並記錄期間內發生的總交易筆數，輔助篩選\n",
    "    "
   ]
  },
  {
   "cell_type": "markdown",
   "metadata": {},
   "source": [
    "![title](img/跳升排序.png)"
   ]
  },
  {
   "cell_type": "markdown",
   "metadata": {},
   "source": [
    "![title](img/反向選取.png)"
   ]
  },
  {
   "cell_type": "markdown",
   "metadata": {},
   "source": [
    "# 其他版本差異\n",
    "* 當Date_Setting以及Core_Setting不存在於 app.exe 的上層目錄時，開啟app時會自動建立並給予預設值\n",
    "* 爬取資料時增加亂數產生的header以及休眠秒數，減少被鎖的機會"
   ]
  }
 ],
 "metadata": {
  "kernelspec": {
   "display_name": "Python 3",
   "language": "python",
   "name": "python3"
  },
  "language_info": {
   "codemirror_mode": {
    "name": "ipython",
    "version": 3
   },
   "file_extension": ".py",
   "mimetype": "text/x-python",
   "name": "python",
   "nbconvert_exporter": "python",
   "pygments_lexer": "ipython3",
   "version": "3.8.3"
  }
 },
 "nbformat": 4,
 "nbformat_minor": 4
}
